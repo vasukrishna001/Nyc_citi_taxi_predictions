{
 "cells": [
  {
   "cell_type": "code",
   "execution_count": 1,
   "id": "cc080774-f41a-4503-a064-c0ac819eeb99",
   "metadata": {},
   "outputs": [],
   "source": [
    "# Reg fetch new batch of features and compute predictions and save to feature store\n",
    "# "
   ]
  },
  {
   "cell_type": "code",
   "execution_count": 1,
   "id": "4bd038bf-8550-420b-9ec2-308198fca80f",
   "metadata": {},
   "outputs": [],
   "source": [
    "%load_ext autoreload\n",
    "%autoreload 2"
   ]
  },
  {
   "cell_type": "code",
   "execution_count": 2,
   "id": "46b8ae0d-58dd-4772-8931-25ff5fccb749",
   "metadata": {},
   "outputs": [],
   "source": [
    "import sys\n",
    "import os\n",
    "\n",
    "# Add the parent directory to the Python path\n",
    "sys.path.append(os.path.abspath(os.path.join(os.getcwd(), \"..\")))\n",
    "import src.config as config"
   ]
  },
  {
   "cell_type": "code",
   "execution_count": 3,
   "id": "26612685-265e-4415-a149-5751be8f994d",
   "metadata": {},
   "outputs": [
    {
     "name": "stdout",
     "output_type": "stream",
     "text": [
      "2025-05-07 21:53:08,802 INFO: Initializing external client\n",
      "2025-05-07 21:53:08,812 INFO: Base URL: https://c.app.hopsworks.ai:443\n",
      "2025-05-07 21:53:10,161 INFO: Python Engine initialized.\n",
      "\n",
      "Logged in to project, explore it here https://c.app.hopsworks.ai:443/p/1213633\n",
      "Fetching data from 2025-04-09 01:53:08.802108+00:00 to 2025-05-08 00:53:08.802108+00:00\n",
      "Finished: Reading data from Hopsworks, using Hopsworks Feature Query Service (4.23s) \n"
     ]
    }
   ],
   "source": [
    "# from src.inference import get_feature_store\n",
    "# from datetime import datetime, timedelta\n",
    "# import pandas as pd  \n",
    "\n",
    "# # Get the current datetime64[us, Etc/UTC]  \n",
    "# current_date = pd.Timestamp.now(tz='Etc/UTC')\n",
    "# feature_store = get_feature_store()\n",
    "\n",
    "# # read time-series data from the feature store\n",
    "# fetch_data_to = current_date - timedelta(hours=1)\n",
    "# fetch_data_from = current_date - timedelta(days=1*29)\n",
    "# print(f\"Fetching data from {fetch_data_from} to {fetch_data_to}\")\n",
    "# feature_view = feature_store.get_feature_view(\n",
    "#     name=config.FEATURE_VIEW_NAME, version=config.FEATURE_VIEW_VERSION\n",
    "# )\n",
    "\n",
    "# ts_data = feature_view.get_batch_data(\n",
    "#     start_time=(fetch_data_from - timedelta(days=1)),\n",
    "#     end_time=(fetch_data_to + timedelta(days=1)),\n",
    "# )\n",
    "# ts_data = ts_data[ts_data.pickup_hour.between(fetch_data_from, fetch_data_to)]\n",
    "# ts_data.sort_values([\"pickup_location_id\", \"pickup_hour\"]).reset_index(drop=True)\n",
    "# ts_data[\"pickup_hour\"] = ts_data[\"pickup_hour\"].dt.tz_localize(None)\n",
    "\n",
    "# from src.data_utils import transform_ts_data_info_features\n",
    "# features = transform_ts_data_info_features(ts_data, window_size=24*28, step_size=23)\n",
    "\n",
    "\n",
    "from src.inference import get_feature_store\n",
    "from src.config import FEATURE_VIEW_NAME, FEATURE_VIEW_VERSION\n",
    "from datetime import datetime, timedelta\n",
    "import pandas as pd\n",
    "\n",
    "# Step 1: Get current UTC time\n",
    "current_date = pd.Timestamp.now(tz=\"Etc/UTC\")\n",
    "\n",
    "# Step 2: Connect to feature store\n",
    "feature_store = get_feature_store()\n",
    "\n",
    "# Step 3: Define time range\n",
    "fetch_data_to = current_date - timedelta(hours=1)\n",
    "fetch_data_from = current_date - timedelta(days=29)\n",
    "print(f\"Fetching data from {fetch_data_from} to {fetch_data_to}\")\n",
    "\n",
    "# Step 4: Load feature view\n",
    "feature_view = feature_store.get_feature_view(\n",
    "    name=FEATURE_VIEW_NAME,\n",
    "    version=FEATURE_VIEW_VERSION\n",
    ")\n",
    "\n",
    "# Step 5: Pull raw data with Spark enabled\n",
    "ts_data = feature_view.get_batch_data(\n",
    "    start_time=(fetch_data_from - timedelta(days=1)),\n",
    "    end_time=(fetch_data_to + timedelta(days=1)),\n",
    "    write_options={\"use_spark\": True}  # ✅ KEEPING THIS\n",
    ")\n",
    "\n",
    "# Step 6: Filter and sort\n",
    "ts_data = ts_data[ts_data[\"pickup_hour\"].between(fetch_data_from, fetch_data_to)]\n",
    "ts_data = ts_data.sort_values([\"pickup_location_id\", \"pickup_hour\"]).reset_index(drop=True)\n",
    "\n",
    "# Step 7: Remove timezone for model compatibility\n",
    "ts_data[\"pickup_hour\"] = ts_data[\"pickup_hour\"].dt.tz_localize(None)\n",
    "\n",
    "# Step 8: Feature transformation\n",
    "from src.data_utils import transform_ts_data_into_features\n",
    "features = transform_ts_data_into_features(ts_data, window_size=24 * 28, step_size=23)\n"
   ]
  },
  {
   "cell_type": "code",
   "execution_count": 4,
   "id": "22253dce-140a-4296-a48b-35c6c7655b90",
   "metadata": {},
   "outputs": [
    {
     "name": "stdout",
     "output_type": "stream",
     "text": [
      "2025-05-07 21:53:32,527 INFO: Closing external client and cleaning up certificates.\n",
      "Connection closed.\n",
      "2025-05-07 21:53:32,539 INFO: Initializing external client\n",
      "2025-05-07 21:53:32,539 INFO: Base URL: https://c.app.hopsworks.ai:443\n",
      "2025-05-07 21:53:33,401 INFO: Python Engine initialized.\n",
      "\n",
      "Logged in to project, explore it here https://c.app.hopsworks.ai:443/p/1213633\n"
     ]
    },
    {
     "data": {
      "application/vnd.jupyter.widget-view+json": {
       "model_id": "256c2a3f55d24a89a9e8a6ec02ed99b4",
       "version_major": 2,
       "version_minor": 0
      },
      "text/plain": [
       "Downloading: 0.000%|          | 0/320762 elapsed<00:00 remaining<?"
      ]
     },
     "metadata": {},
     "output_type": "display_data"
    },
    {
     "name": "stdout",
     "output_type": "stream",
     "text": [
      "Downloading model artifact (0 dirs, 1 files)... DONE"
     ]
    }
   ],
   "source": [
    "from src.inference import load_model_from_registry\n",
    "\n",
    "model = load_model_from_registry()"
   ]
  },
  {
   "cell_type": "code",
   "execution_count": 5,
   "id": "b868f801-03a3-4d51-8e24-88231e664f29",
   "metadata": {},
   "outputs": [],
   "source": [
    "from src.inference import get_model_predictions\n",
    "predictions = get_model_predictions(model, features)"
   ]
  },
  {
   "cell_type": "code",
   "execution_count": 6,
   "id": "751d63ab-8e98-4087-a3cf-d79bd1bd88e5",
   "metadata": {},
   "outputs": [
    {
     "data": {
      "text/html": [
       "<div>\n",
       "<style scoped>\n",
       "    .dataframe tbody tr th:only-of-type {\n",
       "        vertical-align: middle;\n",
       "    }\n",
       "\n",
       "    .dataframe tbody tr th {\n",
       "        vertical-align: top;\n",
       "    }\n",
       "\n",
       "    .dataframe thead th {\n",
       "        text-align: right;\n",
       "    }\n",
       "</style>\n",
       "<table border=\"1\" class=\"dataframe\">\n",
       "  <thead>\n",
       "    <tr style=\"text-align: right;\">\n",
       "      <th></th>\n",
       "      <th>pickup_location_id</th>\n",
       "      <th>pickup_hour</th>\n",
       "      <th>predicted_demand</th>\n",
       "    </tr>\n",
       "  </thead>\n",
       "  <tbody>\n",
       "    <tr>\n",
       "      <th>0</th>\n",
       "      <td>5187.03</td>\n",
       "      <td>2025-05-08 02:00:00+00:00</td>\n",
       "      <td>0.0</td>\n",
       "    </tr>\n",
       "    <tr>\n",
       "      <th>1</th>\n",
       "      <td>5282.02</td>\n",
       "      <td>2025-05-08 02:00:00+00:00</td>\n",
       "      <td>0.0</td>\n",
       "    </tr>\n",
       "    <tr>\n",
       "      <th>2</th>\n",
       "      <td>5746.14</td>\n",
       "      <td>2025-05-08 02:00:00+00:00</td>\n",
       "      <td>0.0</td>\n",
       "    </tr>\n",
       "    <tr>\n",
       "      <th>3</th>\n",
       "      <td>6098.12</td>\n",
       "      <td>2025-05-08 02:00:00+00:00</td>\n",
       "      <td>0.0</td>\n",
       "    </tr>\n",
       "    <tr>\n",
       "      <th>4</th>\n",
       "      <td>6322.01</td>\n",
       "      <td>2025-05-08 02:00:00+00:00</td>\n",
       "      <td>0.0</td>\n",
       "    </tr>\n",
       "    <tr>\n",
       "      <th>...</th>\n",
       "      <td>...</td>\n",
       "      <td>...</td>\n",
       "      <td>...</td>\n",
       "    </tr>\n",
       "    <tr>\n",
       "      <th>90</th>\n",
       "      <td>JC108</td>\n",
       "      <td>2025-05-08 02:00:00+00:00</td>\n",
       "      <td>0.0</td>\n",
       "    </tr>\n",
       "    <tr>\n",
       "      <th>91</th>\n",
       "      <td>JC109</td>\n",
       "      <td>2025-05-08 02:00:00+00:00</td>\n",
       "      <td>0.0</td>\n",
       "    </tr>\n",
       "    <tr>\n",
       "      <th>92</th>\n",
       "      <td>JC110</td>\n",
       "      <td>2025-05-08 02:00:00+00:00</td>\n",
       "      <td>0.0</td>\n",
       "    </tr>\n",
       "    <tr>\n",
       "      <th>93</th>\n",
       "      <td>JC115</td>\n",
       "      <td>2025-05-08 02:00:00+00:00</td>\n",
       "      <td>-0.0</td>\n",
       "    </tr>\n",
       "    <tr>\n",
       "      <th>94</th>\n",
       "      <td>JC116</td>\n",
       "      <td>2025-05-08 02:00:00+00:00</td>\n",
       "      <td>-0.0</td>\n",
       "    </tr>\n",
       "  </tbody>\n",
       "</table>\n",
       "<p>95 rows × 3 columns</p>\n",
       "</div>"
      ],
      "text/plain": [
       "   pickup_location_id               pickup_hour  predicted_demand\n",
       "0             5187.03 2025-05-08 02:00:00+00:00               0.0\n",
       "1             5282.02 2025-05-08 02:00:00+00:00               0.0\n",
       "2             5746.14 2025-05-08 02:00:00+00:00               0.0\n",
       "3             6098.12 2025-05-08 02:00:00+00:00               0.0\n",
       "4             6322.01 2025-05-08 02:00:00+00:00               0.0\n",
       "..                ...                       ...               ...\n",
       "90              JC108 2025-05-08 02:00:00+00:00               0.0\n",
       "91              JC109 2025-05-08 02:00:00+00:00               0.0\n",
       "92              JC110 2025-05-08 02:00:00+00:00               0.0\n",
       "93              JC115 2025-05-08 02:00:00+00:00              -0.0\n",
       "94              JC116 2025-05-08 02:00:00+00:00              -0.0\n",
       "\n",
       "[95 rows x 3 columns]"
      ]
     },
     "execution_count": 6,
     "metadata": {},
     "output_type": "execute_result"
    }
   ],
   "source": [
    "predictions[\"pickup_hour\"] = current_date.ceil('h')\n",
    "predictions"
   ]
  },
  {
   "cell_type": "code",
   "execution_count": 7,
   "id": "7b171dd4-628a-4c46-af00-92cee476f090",
   "metadata": {},
   "outputs": [
    {
     "name": "stdout",
     "output_type": "stream",
     "text": [
      "2025-05-07 21:57:09,249 INFO: Closing external client and cleaning up certificates.\n",
      "Connection closed.\n",
      "2025-05-07 21:57:09,255 INFO: Initializing external client\n",
      "2025-05-07 21:57:09,256 INFO: Base URL: https://c.app.hopsworks.ai:443\n",
      "2025-05-07 21:57:10,136 INFO: Python Engine initialized.\n",
      "\n",
      "Logged in to project, explore it here https://c.app.hopsworks.ai:443/p/1213633\n"
     ]
    }
   ],
   "source": [
    "from src.inference import get_feature_store\n",
    "\n",
    "feature_group = get_feature_store().get_or_create_feature_group(\n",
    "    name=config.FEATURE_GROUP_MODEL_PREDICTION,\n",
    "    version=1,\n",
    "    description=\"Predictions from LGBM Model\",\n",
    "    primary_key=[\"pickup_location_id\", \"pickup_hour\"],\n",
    "    event_time=\"pickup_hour\",\n",
    ")\n"
   ]
  },
  {
   "cell_type": "code",
   "execution_count": 8,
   "id": "0ba8f0db-022e-4f8a-ac34-6fd8bb095b47",
   "metadata": {},
   "outputs": [
    {
     "name": "stdout",
     "output_type": "stream",
     "text": [
      "Feature Group created successfully, explore it at \n",
      "https://c.app.hopsworks.ai:443/p/1213633/fs/1201258/fg/1440567\n"
     ]
    },
    {
     "name": "stderr",
     "output_type": "stream",
     "text": [
      "Uploading Dataframe: 100.00% |███████████████████████████████| Rows 95/95 | Elapsed Time: 00:00 | Remaining Time: 00:00\n"
     ]
    },
    {
     "name": "stdout",
     "output_type": "stream",
     "text": [
      "Launching job: citi_bike_hourly_model_prediction_1_offline_fg_materialization\n",
      "Job started successfully, you can follow the progress at \n",
      "https://c.app.hopsworks.ai:443/p/1213633/jobs/named/citi_bike_hourly_model_prediction_1_offline_fg_materialization/executions\n"
     ]
    },
    {
     "data": {
      "text/plain": [
       "(Job('citi_bike_hourly_model_prediction_1_offline_fg_materialization', 'SPARK'),\n",
       " None)"
      ]
     },
     "execution_count": 8,
     "metadata": {},
     "output_type": "execute_result"
    }
   ],
   "source": [
    "feature_group.insert(predictions, write_options={\"wait_for_job\": False})"
   ]
  },
  {
   "cell_type": "code",
   "execution_count": null,
   "id": "bd132f90-1546-4d0c-9258-26416c3d4d1a",
   "metadata": {},
   "outputs": [],
   "source": []
  }
 ],
 "metadata": {
  "kernelspec": {
   "display_name": "Python 3 (ipykernel)",
   "language": "python",
   "name": "python3"
  },
  "language_info": {
   "codemirror_mode": {
    "name": "ipython",
    "version": 3
   },
   "file_extension": ".py",
   "mimetype": "text/x-python",
   "name": "python",
   "nbconvert_exporter": "python",
   "pygments_lexer": "ipython3",
   "version": "3.11.11"
  }
 },
 "nbformat": 4,
 "nbformat_minor": 5
}
