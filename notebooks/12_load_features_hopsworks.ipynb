{
 "cells": [
  {
   "cell_type": "code",
   "execution_count": 1,
   "id": "59a47fbd-54a0-4303-9930-bec21ee4af13",
   "metadata": {},
   "outputs": [
    {
     "data": {
      "text/plain": [
       "True"
      ]
     },
     "execution_count": 1,
     "metadata": {},
     "output_type": "execute_result"
    }
   ],
   "source": [
    "from dotenv import load_dotenv\n",
    "import os\n",
    "load_dotenv() "
   ]
  },
  {
   "cell_type": "code",
   "execution_count": 2,
   "id": "7db02dd3-9e8a-4106-a384-554aadf872e6",
   "metadata": {},
   "outputs": [],
   "source": [
    "%load_ext autoreload\n",
    "%autoreload 2"
   ]
  },
  {
   "cell_type": "code",
   "execution_count": 3,
   "id": "d7b02256-6f46-482a-aca7-58f371706d0a",
   "metadata": {},
   "outputs": [],
   "source": [
    "import sys\n",
    "import os\n",
    "\n",
    "# Add the parent directory to the Python path\n",
    "sys.path.append(os.path.abspath(os.path.join(os.getcwd(), \"..\")))"
   ]
  },
  {
   "cell_type": "code",
   "execution_count": 4,
   "id": "62dbc040-c179-4893-8bca-7c556d757394",
   "metadata": {},
   "outputs": [
    {
     "name": "stdout",
     "output_type": "stream",
     "text": [
      "🚴 Loading Citi Bike data for 2024...\n",
      "File already exists for 2024-01.\n",
      "Loading Citi Bike data for 2024-01...\n",
      "Total records: 50,661\n",
      "Valid records: 50,589\n",
      "Records dropped: 72 (0.14%)\n",
      "Successfully processed data for 2024-01.\n",
      "File already exists for 2024-02.\n",
      "Loading Citi Bike data for 2024-02...\n",
      "Total records: 55,613\n",
      "Valid records: 55,532\n",
      "Records dropped: 81 (0.15%)\n",
      "Successfully processed data for 2024-02.\n",
      "File already exists for 2024-03.\n",
      "Loading Citi Bike data for 2024-03...\n",
      "Total records: 65,581\n",
      "Valid records: 65,383\n",
      "Records dropped: 198 (0.30%)\n",
      "Successfully processed data for 2024-03.\n",
      "File already exists for 2024-04.\n",
      "Loading Citi Bike data for 2024-04...\n",
      "Total records: 79,116\n",
      "Valid records: 78,948\n",
      "Records dropped: 168 (0.21%)\n",
      "Successfully processed data for 2024-04.\n",
      "File already exists for 2024-05.\n",
      "Loading Citi Bike data for 2024-05...\n",
      "Total records: 97,479\n",
      "Valid records: 97,225\n",
      "Records dropped: 254 (0.26%)\n",
      "Successfully processed data for 2024-05.\n",
      "File already exists for 2024-06.\n",
      "Loading Citi Bike data for 2024-06...\n",
      "Total records: 111,115\n",
      "Valid records: 110,794\n",
      "Records dropped: 321 (0.29%)\n",
      "Successfully processed data for 2024-06.\n",
      "File already exists for 2024-07.\n",
      "Loading Citi Bike data for 2024-07...\n",
      "Total records: 112,443\n",
      "Valid records: 112,202\n",
      "Records dropped: 241 (0.21%)\n",
      "Successfully processed data for 2024-07.\n",
      "File already exists for 2024-08.\n",
      "Loading Citi Bike data for 2024-08...\n",
      "Total records: 106,451\n",
      "Valid records: 106,219\n",
      "Records dropped: 232 (0.22%)\n",
      "Successfully processed data for 2024-08.\n",
      "File already exists for 2024-09.\n",
      "Loading Citi Bike data for 2024-09...\n",
      "Total records: 115,558\n",
      "Valid records: 115,398\n",
      "Records dropped: 160 (0.14%)\n",
      "Successfully processed data for 2024-09.\n",
      "File already exists for 2024-10.\n",
      "Loading Citi Bike data for 2024-10...\n",
      "Total records: 118,307\n",
      "Valid records: 118,194\n",
      "Records dropped: 113 (0.10%)\n",
      "Successfully processed data for 2024-10.\n",
      "File already exists for 2024-11.\n",
      "Loading Citi Bike data for 2024-11...\n",
      "Total records: 85,294\n",
      "Valid records: 85,207\n",
      "Records dropped: 87 (0.10%)\n",
      "Successfully processed data for 2024-11.\n",
      "File already exists for 2024-12.\n",
      "Loading Citi Bike data for 2024-12...\n",
      "Total records: 54,833\n",
      "Valid records: 54,787\n",
      "Records dropped: 46 (0.08%)\n",
      "Successfully processed data for 2024-12.\n",
      "Combining all monthly Citi Bike data...\n",
      "Citi Bike data loading and processing complete!\n",
      "✅ Data loading complete.\n",
      "Data shape: (1050478, 2)\n"
     ]
    }
   ],
   "source": [
    "import pandas as pd\n",
    "from src.data_utils import load_and_process_citibike_data\n",
    "\n",
    "print(\"🚴 Loading Citi Bike data for 2024...\")\n",
    "\n",
    "chunks = []\n",
    "rides_one_year = load_and_process_citibike_data(2024)\n",
    "chunks.append(rides_one_year)\n",
    "\n",
    "# Combine (though it's just one year)\n",
    "rides = pd.concat(chunks, ignore_index=True)\n",
    "\n",
    "print(\"✅ Data loading complete.\")\n",
    "print(\"Data shape:\", rides.shape)\n"
   ]
  },
  {
   "cell_type": "code",
   "execution_count": 5,
   "id": "ce5589a2-9316-4dac-ba2e-e9a8a4789241",
   "metadata": {},
   "outputs": [
    {
     "data": {
      "text/html": [
       "<div>\n",
       "<style scoped>\n",
       "    .dataframe tbody tr th:only-of-type {\n",
       "        vertical-align: middle;\n",
       "    }\n",
       "\n",
       "    .dataframe tbody tr th {\n",
       "        vertical-align: top;\n",
       "    }\n",
       "\n",
       "    .dataframe thead th {\n",
       "        text-align: right;\n",
       "    }\n",
       "</style>\n",
       "<table border=\"1\" class=\"dataframe\">\n",
       "  <thead>\n",
       "    <tr style=\"text-align: right;\">\n",
       "      <th></th>\n",
       "      <th>pickup_datetime</th>\n",
       "      <th>pickup_location_id</th>\n",
       "    </tr>\n",
       "  </thead>\n",
       "  <tbody>\n",
       "    <tr>\n",
       "      <th>0</th>\n",
       "      <td>2024-01-15 15:18:07.000</td>\n",
       "      <td>JC072</td>\n",
       "    </tr>\n",
       "    <tr>\n",
       "      <th>1</th>\n",
       "      <td>2024-01-13 15:32:50.000</td>\n",
       "      <td>JC110</td>\n",
       "    </tr>\n",
       "    <tr>\n",
       "      <th>2</th>\n",
       "      <td>2024-01-19 13:11:00.000</td>\n",
       "      <td>JC072</td>\n",
       "    </tr>\n",
       "    <tr>\n",
       "      <th>3</th>\n",
       "      <td>2024-01-23 07:03:49.000</td>\n",
       "      <td>JC072</td>\n",
       "    </tr>\n",
       "    <tr>\n",
       "      <th>4</th>\n",
       "      <td>2024-01-01 16:46:10.000</td>\n",
       "      <td>JC072</td>\n",
       "    </tr>\n",
       "    <tr>\n",
       "      <th>...</th>\n",
       "      <td>...</td>\n",
       "      <td>...</td>\n",
       "    </tr>\n",
       "    <tr>\n",
       "      <th>1050473</th>\n",
       "      <td>2024-12-28 09:45:30.704</td>\n",
       "      <td>JC013</td>\n",
       "    </tr>\n",
       "    <tr>\n",
       "      <th>1050474</th>\n",
       "      <td>2024-12-12 16:21:50.427</td>\n",
       "      <td>JC013</td>\n",
       "    </tr>\n",
       "    <tr>\n",
       "      <th>1050475</th>\n",
       "      <td>2024-12-11 19:23:24.109</td>\n",
       "      <td>JC115</td>\n",
       "    </tr>\n",
       "    <tr>\n",
       "      <th>1050476</th>\n",
       "      <td>2024-12-12 20:48:40.471</td>\n",
       "      <td>JC115</td>\n",
       "    </tr>\n",
       "    <tr>\n",
       "      <th>1050477</th>\n",
       "      <td>2024-12-04 18:14:12.686</td>\n",
       "      <td>JC013</td>\n",
       "    </tr>\n",
       "  </tbody>\n",
       "</table>\n",
       "<p>1050478 rows × 2 columns</p>\n",
       "</div>"
      ],
      "text/plain": [
       "                pickup_datetime pickup_location_id\n",
       "0       2024-01-15 15:18:07.000              JC072\n",
       "1       2024-01-13 15:32:50.000              JC110\n",
       "2       2024-01-19 13:11:00.000              JC072\n",
       "3       2024-01-23 07:03:49.000              JC072\n",
       "4       2024-01-01 16:46:10.000              JC072\n",
       "...                         ...                ...\n",
       "1050473 2024-12-28 09:45:30.704              JC013\n",
       "1050474 2024-12-12 16:21:50.427              JC013\n",
       "1050475 2024-12-11 19:23:24.109              JC115\n",
       "1050476 2024-12-12 20:48:40.471              JC115\n",
       "1050477 2024-12-04 18:14:12.686              JC013\n",
       "\n",
       "[1050478 rows x 2 columns]"
      ]
     },
     "execution_count": 5,
     "metadata": {},
     "output_type": "execute_result"
    }
   ],
   "source": [
    "rides"
   ]
  },
  {
   "cell_type": "code",
   "execution_count": 6,
   "id": "59f47e90-0fcb-4b7a-80d0-a68c979f9ea6",
   "metadata": {},
   "outputs": [
    {
     "data": {
      "text/plain": [
       "(1050478, 2)"
      ]
     },
     "execution_count": 6,
     "metadata": {},
     "output_type": "execute_result"
    }
   ],
   "source": [
    "rides.shape"
   ]
  },
  {
   "cell_type": "code",
   "execution_count": 7,
   "id": "5259f4bd-65ce-43dc-b487-09ee12d964bb",
   "metadata": {},
   "outputs": [],
   "source": [
    "from src.data_utils import transform_raw_data_into_ts_data\n",
    "\n",
    "ts_data = transform_raw_data_into_ts_data(rides)"
   ]
  },
  {
   "cell_type": "code",
   "execution_count": 8,
   "id": "59252b5f-17fc-4207-a1c4-6bebd49233ab",
   "metadata": {},
   "outputs": [
    {
     "data": {
      "text/plain": [
       "(1800720, 3)"
      ]
     },
     "execution_count": 8,
     "metadata": {},
     "output_type": "execute_result"
    }
   ],
   "source": [
    "ts_data.shape"
   ]
  },
  {
   "cell_type": "code",
   "execution_count": 9,
   "id": "92402d0c-dacd-4039-ba40-caf7eeafe8b5",
   "metadata": {},
   "outputs": [
    {
     "name": "stdout",
     "output_type": "stream",
     "text": [
      "<class 'pandas.core.frame.DataFrame'>\n",
      "RangeIndex: 1800720 entries, 0 to 1800719\n",
      "Data columns (total 3 columns):\n",
      " #   Column              Dtype         \n",
      "---  ------              -----         \n",
      " 0   pickup_hour         datetime64[ns]\n",
      " 1   pickup_location_id  object        \n",
      " 2   rides               int32         \n",
      "dtypes: datetime64[ns](1), int32(1), object(1)\n",
      "memory usage: 34.3+ MB\n"
     ]
    }
   ],
   "source": [
    "ts_data.info()"
   ]
  },
  {
   "cell_type": "code",
   "execution_count": 10,
   "id": "3804e864-fcde-41f4-bf92-5c0e8e90aa0c",
   "metadata": {},
   "outputs": [
    {
     "data": {
      "text/html": [
       "<div>\n",
       "<style scoped>\n",
       "    .dataframe tbody tr th:only-of-type {\n",
       "        vertical-align: middle;\n",
       "    }\n",
       "\n",
       "    .dataframe tbody tr th {\n",
       "        vertical-align: top;\n",
       "    }\n",
       "\n",
       "    .dataframe thead th {\n",
       "        text-align: right;\n",
       "    }\n",
       "</style>\n",
       "<table border=\"1\" class=\"dataframe\">\n",
       "  <thead>\n",
       "    <tr style=\"text-align: right;\">\n",
       "      <th></th>\n",
       "      <th>pickup_hour</th>\n",
       "      <th>pickup_location_id</th>\n",
       "      <th>rides</th>\n",
       "    </tr>\n",
       "  </thead>\n",
       "  <tbody>\n",
       "    <tr>\n",
       "      <th>0</th>\n",
       "      <td>2024-01-01 00:00:00</td>\n",
       "      <td>4074.14</td>\n",
       "      <td>0</td>\n",
       "    </tr>\n",
       "    <tr>\n",
       "      <th>1</th>\n",
       "      <td>2024-01-01 01:00:00</td>\n",
       "      <td>4074.14</td>\n",
       "      <td>0</td>\n",
       "    </tr>\n",
       "    <tr>\n",
       "      <th>2</th>\n",
       "      <td>2024-01-01 02:00:00</td>\n",
       "      <td>4074.14</td>\n",
       "      <td>0</td>\n",
       "    </tr>\n",
       "    <tr>\n",
       "      <th>3</th>\n",
       "      <td>2024-01-01 03:00:00</td>\n",
       "      <td>4074.14</td>\n",
       "      <td>0</td>\n",
       "    </tr>\n",
       "    <tr>\n",
       "      <th>4</th>\n",
       "      <td>2024-01-01 04:00:00</td>\n",
       "      <td>4074.14</td>\n",
       "      <td>0</td>\n",
       "    </tr>\n",
       "    <tr>\n",
       "      <th>...</th>\n",
       "      <td>...</td>\n",
       "      <td>...</td>\n",
       "      <td>...</td>\n",
       "    </tr>\n",
       "    <tr>\n",
       "      <th>1800715</th>\n",
       "      <td>2024-12-31 19:00:00</td>\n",
       "      <td>JC116</td>\n",
       "      <td>0</td>\n",
       "    </tr>\n",
       "    <tr>\n",
       "      <th>1800716</th>\n",
       "      <td>2024-12-31 20:00:00</td>\n",
       "      <td>JC116</td>\n",
       "      <td>0</td>\n",
       "    </tr>\n",
       "    <tr>\n",
       "      <th>1800717</th>\n",
       "      <td>2024-12-31 21:00:00</td>\n",
       "      <td>JC116</td>\n",
       "      <td>0</td>\n",
       "    </tr>\n",
       "    <tr>\n",
       "      <th>1800718</th>\n",
       "      <td>2024-12-31 22:00:00</td>\n",
       "      <td>JC116</td>\n",
       "      <td>1</td>\n",
       "    </tr>\n",
       "    <tr>\n",
       "      <th>1800719</th>\n",
       "      <td>2024-12-31 23:00:00</td>\n",
       "      <td>JC116</td>\n",
       "      <td>2</td>\n",
       "    </tr>\n",
       "  </tbody>\n",
       "</table>\n",
       "<p>1800720 rows × 3 columns</p>\n",
       "</div>"
      ],
      "text/plain": [
       "                pickup_hour pickup_location_id  rides\n",
       "0       2024-01-01 00:00:00            4074.14      0\n",
       "1       2024-01-01 01:00:00            4074.14      0\n",
       "2       2024-01-01 02:00:00            4074.14      0\n",
       "3       2024-01-01 03:00:00            4074.14      0\n",
       "4       2024-01-01 04:00:00            4074.14      0\n",
       "...                     ...                ...    ...\n",
       "1800715 2024-12-31 19:00:00              JC116      0\n",
       "1800716 2024-12-31 20:00:00              JC116      0\n",
       "1800717 2024-12-31 21:00:00              JC116      0\n",
       "1800718 2024-12-31 22:00:00              JC116      1\n",
       "1800719 2024-12-31 23:00:00              JC116      2\n",
       "\n",
       "[1800720 rows x 3 columns]"
      ]
     },
     "execution_count": 10,
     "metadata": {},
     "output_type": "execute_result"
    }
   ],
   "source": [
    "ts_data"
   ]
  },
  {
   "cell_type": "code",
   "execution_count": 11,
   "id": "198acecb-b94a-46f3-a6c6-a520598ec39d",
   "metadata": {},
   "outputs": [],
   "source": [
    "ts_data[\"pickup_location_id\"] = ts_data[\"pickup_location_id\"].astype(str)\n"
   ]
  },
  {
   "cell_type": "code",
   "execution_count": 12,
   "id": "f012f6f3-3fe6-4436-a95d-39db79044aa7",
   "metadata": {},
   "outputs": [],
   "source": [
    "ts_data = ts_data.sort_values([\"pickup_location_id\", \"pickup_hour\"]).reset_index(drop=True)\n"
   ]
  },
  {
   "cell_type": "code",
   "execution_count": 13,
   "id": "e82ee123-5140-453f-b1b9-92fe7035e895",
   "metadata": {},
   "outputs": [
    {
     "data": {
      "text/plain": [
       "pickup_hour           datetime64[ns]\n",
       "pickup_location_id            object\n",
       "rides                          int32\n",
       "dtype: object"
      ]
     },
     "execution_count": 13,
     "metadata": {},
     "output_type": "execute_result"
    }
   ],
   "source": [
    "ts_data.dtypes\n"
   ]
  },
  {
   "cell_type": "code",
   "execution_count": 14,
   "id": "d0cabfd3-ae62-4ed1-89e8-866c3c64f4ff",
   "metadata": {},
   "outputs": [
    {
     "name": "stdout",
     "output_type": "stream",
     "text": [
      "Unique hours: 8784\n",
      "Unique stations: 205\n",
      "Expected rows: 1800720\n",
      "Actual rows: 1800720\n"
     ]
    }
   ],
   "source": [
    "n_hours = ts_data[\"pickup_hour\"].nunique()\n",
    "n_stations = ts_data[\"pickup_location_id\"].nunique()\n",
    "expected_rows = n_hours * n_stations\n",
    "\n",
    "print(f\"Unique hours: {n_hours}\")\n",
    "print(f\"Unique stations: {n_stations}\")\n",
    "print(f\"Expected rows: {expected_rows}\")\n",
    "print(f\"Actual rows: {ts_data.shape[0]}\")\n"
   ]
  },
  {
   "cell_type": "code",
   "execution_count": 16,
   "id": "8949a20a-f5da-45ff-990f-d789d234cdf6",
   "metadata": {
    "scrolled": true
   },
   "outputs": [
    {
     "name": "stdout",
     "output_type": "stream",
     "text": [
      "2025-05-06 21:17:20,468 INFO: Closing external client and cleaning up certificates.\n",
      "Connection closed.\n",
      "2025-05-06 21:17:20,472 INFO: Initializing external client\n",
      "2025-05-06 21:17:20,473 INFO: Base URL: https://c.app.hopsworks.ai:443\n",
      "2025-05-06 21:17:21,619 INFO: Python Engine initialized.\n",
      "\n",
      "Logged in to project, explore it here https://c.app.hopsworks.ai:443/p/1213633\n",
      "✅ Successfully connected to Hopsworks project: sp25_taxi\n"
     ]
    }
   ],
   "source": [
    "import os\n",
    "import hopsworks\n",
    "\n",
    "# Load API key and project name from environment\n",
    "api_key = os.getenv('HOPSWORKS_API_KEY')  \n",
    "project_name = os.getenv('HOPSWORKS_PROJECT_NAME')  \n",
    "\n",
    "if not api_key or not project_name:\n",
    "    raise ValueError(\"❌ Missing HOPSWORKS_API_KEY or HOPSWORKS_PROJECT_NAME in environment variables.\")\n",
    "\n",
    "# Connect to Hopsworks\n",
    "project = hopsworks.login(\n",
    "    api_key_value=api_key,\n",
    "    project=project_name\n",
    ")\n",
    "\n",
    "print(f\"✅ Successfully connected to Hopsworks project: {project_name}\")\n"
   ]
  },
  {
   "cell_type": "code",
   "execution_count": 17,
   "id": "348b1a4b-6141-4078-bc9f-e9e3a750a0f7",
   "metadata": {},
   "outputs": [],
   "source": [
    "feature_store = project.get_feature_store()"
   ]
  },
  {
   "cell_type": "code",
   "execution_count": 18,
   "id": "0d54682e-b7d3-49fc-86bd-65b1b06206bc",
   "metadata": {},
   "outputs": [],
   "source": [
    "FEATURE_GROUP_NAME = \"citi_bike_hourly_features\"\n",
    "FEATURE_GROUP_VERSION = 1"
   ]
  },
  {
   "cell_type": "code",
   "execution_count": 19,
   "id": "9f292eed-c4a1-4d3a-8ee9-daa7bb1fea5a",
   "metadata": {},
   "outputs": [],
   "source": [
    "feature_group = feature_store.get_or_create_feature_group(\n",
    "    name=FEATURE_GROUP_NAME,\n",
    "    version=FEATURE_GROUP_VERSION,\n",
    "    description=\"Citi Bike time-series features (hourly)\",\n",
    "    primary_key=[\"pickup_location_id\", \"pickup_hour\"],\n",
    "    event_time=\"pickup_hour\"\n",
    ")"
   ]
  },
  {
   "cell_type": "code",
   "execution_count": 20,
   "id": "ec573dd2-3125-4d2f-93a9-975bedfe739f",
   "metadata": {},
   "outputs": [
    {
     "name": "stdout",
     "output_type": "stream",
     "text": [
      "Feature Group created successfully, explore it at \n",
      "https://c.app.hopsworks.ai:443/p/1213633/fs/1201258/fg/1438471\n"
     ]
    },
    {
     "name": "stderr",
     "output_type": "stream",
     "text": [
      "Uploading Dataframe: 100.00% |█████████████████████| Rows 1800720/1800720 | Elapsed Time: 02:30 | Remaining Time: 00:00\n"
     ]
    },
    {
     "name": "stdout",
     "output_type": "stream",
     "text": [
      "Launching job: citi_bike_hourly_features_1_offline_fg_materialization\n",
      "Job started successfully, you can follow the progress at \n",
      "https://c.app.hopsworks.ai:443/p/1213633/jobs/named/citi_bike_hourly_features_1_offline_fg_materialization/executions\n"
     ]
    },
    {
     "data": {
      "text/plain": [
       "(Job('citi_bike_hourly_features_1_offline_fg_materialization', 'SPARK'), None)"
      ]
     },
     "execution_count": 20,
     "metadata": {},
     "output_type": "execute_result"
    }
   ],
   "source": [
    "feature_group.insert(ts_data, write_options={\"wait_for_job\": False})"
   ]
  },
  {
   "cell_type": "code",
   "execution_count": 21,
   "id": "c9ff98cc-31f4-47b4-a43c-fe731760af71",
   "metadata": {},
   "outputs": [
    {
     "name": "stdout",
     "output_type": "stream",
     "text": [
      "DataFrame size: 78.14 MB\n"
     ]
    }
   ],
   "source": [
    "df_memory_mb = rides.memory_usage(deep=True).sum() / (1024 * 1024)  \n",
    "print(f\"DataFrame size: {df_memory_mb:.2f} MB\")"
   ]
  },
  {
   "cell_type": "code",
   "execution_count": 22,
   "id": "be636b4b-4bd5-469d-8cc7-b09e1de29ecd",
   "metadata": {},
   "outputs": [
    {
     "name": "stdout",
     "output_type": "stream",
     "text": [
      "<class 'pandas.core.frame.DataFrame'>\n",
      "RangeIndex: 1800720 entries, 0 to 1800719\n",
      "Data columns (total 3 columns):\n",
      " #   Column              Dtype         \n",
      "---  ------              -----         \n",
      " 0   pickup_hour         datetime64[ns]\n",
      " 1   pickup_location_id  object        \n",
      " 2   rides               int32         \n",
      "dtypes: datetime64[ns](1), int32(1), object(1)\n",
      "memory usage: 34.3+ MB\n"
     ]
    }
   ],
   "source": [
    "ts_data.info()"
   ]
  },
  {
   "cell_type": "code",
   "execution_count": null,
   "id": "40f67a04-855a-44a0-935e-5895b8e140d2",
   "metadata": {},
   "outputs": [],
   "source": []
  }
 ],
 "metadata": {
  "kernelspec": {
   "display_name": "Python 3 (ipykernel)",
   "language": "python",
   "name": "python3"
  },
  "language_info": {
   "codemirror_mode": {
    "name": "ipython",
    "version": 3
   },
   "file_extension": ".py",
   "mimetype": "text/x-python",
   "name": "python",
   "nbconvert_exporter": "python",
   "pygments_lexer": "ipython3",
   "version": "3.11.11"
  }
 },
 "nbformat": 4,
 "nbformat_minor": 5
}
