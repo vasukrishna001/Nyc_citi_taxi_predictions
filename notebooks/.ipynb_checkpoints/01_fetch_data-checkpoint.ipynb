{
 "cells": [
  {
   "cell_type": "code",
   "execution_count": 10,
   "id": "b864df1f-3b61-4d10-b63e-a0e0bb7a2acd",
   "metadata": {},
   "outputs": [],
   "source": [
    "from pathlib import Path\n",
    "import requests\n",
    "import zipfile\n",
    "import io\n",
    "\n",
    "def fetch_raw_data(year: int, month: int) -> str:\n",
    "    url = f\"https://s3.amazonaws.com/tripdata/JC-{year}{month:02}-citibike-tripdata.csv.zip\"\n",
    "    response = requests.get(url)\n",
    "    \n",
    "    if response.status_code == 200:\n",
    "        raw_dir = Path(\"..\") / \"data\" / \"raw\"\n",
    "        raw_dir.mkdir(parents=True, exist_ok=True)\n",
    "\n",
    "        zip_path = raw_dir / f\"citibike_{year}_{month:02}.zip\"\n",
    "        csv_filename = None\n",
    "\n",
    "        # Save and extract the zip file\n",
    "        with zipfile.ZipFile(io.BytesIO(response.content)) as z:\n",
    "            z.extractall(path=raw_dir)\n",
    "            csv_filename = z.namelist()[0]  # assume only one file inside\n",
    "\n",
    "        csv_path = raw_dir / csv_filename\n",
    "        print(f\"✅ Successfully fetched and extracted: {csv_path}\")\n",
    "        return str(csv_path)\n",
    "    else:\n",
    "        raise Exception(f\"❌ Failed to fetch data from: {url}\")\n"
   ]
  },
  {
   "cell_type": "code",
   "execution_count": 11,
   "id": "ea3d5f04-c44f-4f2f-9d32-64508e212d29",
   "metadata": {},
   "outputs": [
    {
     "name": "stdout",
     "output_type": "stream",
     "text": [
      "✅ Successfully fetched and extracted: ..\\data\\raw\\JC-202401-citibike-tripdata.csv\n",
      "✅ Successfully fetched and extracted: ..\\data\\raw\\JC-202402-citibike-tripdata.csv\n",
      "✅ Successfully fetched and extracted: ..\\data\\raw\\JC-202403-citibike-tripdata.csv\n",
      "✅ Successfully fetched and extracted: ..\\data\\raw\\JC-202404-citibike-tripdata.csv\n",
      "✅ Successfully fetched and extracted: ..\\data\\raw\\JC-202405-citibike-tripdata.csv\n",
      "✅ Successfully fetched and extracted: ..\\data\\raw\\JC-202406-citibike-tripdata.csv\n",
      "✅ Successfully fetched and extracted: ..\\data\\raw\\JC-202407-citibike-tripdata.csv\n",
      "✅ Successfully fetched and extracted: ..\\data\\raw\\JC-202408-citibike-tripdata.csv\n",
      "✅ Successfully fetched and extracted: ..\\data\\raw\\JC-202409-citibike-tripdata.csv\n",
      "✅ Successfully fetched and extracted: ..\\data\\raw\\JC-202410-citibike-tripdata.csv\n",
      "✅ Successfully fetched and extracted: ..\\data\\raw\\JC-202411-citibike-tripdata.csv\n",
      "✅ Successfully fetched and extracted: ..\\data\\raw\\JC-202412-citibike-tripdata.csv\n"
     ]
    }
   ],
   "source": [
    "for month in range(1, 13):  # Months 2 to 12\n",
    "    try:\n",
    "        fetch_raw_data(2024, month)\n",
    "    except Exception as e:\n",
    "        print(f\"❌ Error fetching data for 2024-{month:02}: {e}\")\n"
   ]
  },
  {
   "cell_type": "code",
   "execution_count": 13,
   "id": "03fc6e34-67b4-4116-b333-9bbcfae3bbbd",
   "metadata": {},
   "outputs": [
    {
     "name": "stdout",
     "output_type": "stream",
     "text": [
      "Columns in the dataset:\n",
      "Index(['ride_id', 'rideable_type', 'started_at', 'ended_at',\n",
      "       'start_station_name', 'start_station_id', 'end_station_name',\n",
      "       'end_station_id', 'start_lat', 'start_lng', 'end_lat', 'end_lng',\n",
      "       'member_casual'],\n",
      "      dtype='object')\n",
      "\n",
      "Sample records:\n",
      "            ride_id  rideable_type           started_at             ended_at  \\\n",
      "0  0744109F13385D1D  electric_bike  2024-01-15 15:18:07  2024-01-15 15:32:44   \n",
      "1  B1488BFEF9118000   classic_bike  2024-01-13 15:32:50  2024-01-13 15:36:18   \n",
      "2  95A2FE8E51B4C836   classic_bike  2024-01-19 13:11:00  2024-01-19 13:14:44   \n",
      "3  95D9AFF6A1652DC1   classic_bike  2024-01-23 07:03:49  2024-01-23 07:07:11   \n",
      "4  5F7408988A83B1B3   classic_bike  2024-01-01 16:46:10  2024-01-01 16:50:31   \n",
      "\n",
      "  start_station_name start_station_id end_station_name end_station_id  \\\n",
      "0       Morris Canal            JC072      Oakland Ave          JC022   \n",
      "1  JC Medical Center            JC110    Grove St PATH          JC115   \n",
      "2       Morris Canal            JC072      Exchange Pl          JC116   \n",
      "3       Morris Canal            JC072      Exchange Pl          JC116   \n",
      "4       Morris Canal            JC072       Harborside          JC104   \n",
      "\n",
      "   start_lat  start_lng    end_lat    end_lng member_casual  \n",
      "0  40.712297 -74.038185  40.737604 -74.052478        member  \n",
      "1  40.715391 -74.049692  40.719410 -74.043090        member  \n",
      "2  40.712419 -74.038526  40.716366 -74.034344        member  \n",
      "3  40.712419 -74.038526  40.716366 -74.034344        member  \n",
      "4  40.712419 -74.038526  40.719252 -74.034234        member  \n"
     ]
    }
   ],
   "source": [
    "import pandas as pd\n",
    "\n",
    "def show_columns_and_sample(file_path: str, num_records: int = 5):\n",
    "    df = pd.read_csv(file_path)  # Changed from read_parquet to read_csv\n",
    "    print(\"Columns in the dataset:\")\n",
    "    print(df.columns)\n",
    "    print(\"\\nSample records:\")\n",
    "    print(df.head(num_records))\n",
    "\n",
    "# Example usage\n",
    "file_path = \"../data/raw/JC-202401-citibike-tripdata.csv\"  # Path to your Citi Bike data\n",
    "show_columns_and_sample(file_path)\n"
   ]
  },
  {
   "cell_type": "code",
   "execution_count": null,
   "id": "cffc8ff1-e8a0-42f3-84b9-48a98d42eb52",
   "metadata": {},
   "outputs": [],
   "source": []
  }
 ],
 "metadata": {
  "kernelspec": {
   "display_name": "Python 3 (ipykernel)",
   "language": "python",
   "name": "python3"
  },
  "language_info": {
   "codemirror_mode": {
    "name": "ipython",
    "version": 3
   },
   "file_extension": ".py",
   "mimetype": "text/x-python",
   "name": "python",
   "nbconvert_exporter": "python",
   "pygments_lexer": "ipython3",
   "version": "3.11.11"
  }
 },
 "nbformat": 4,
 "nbformat_minor": 5
}
